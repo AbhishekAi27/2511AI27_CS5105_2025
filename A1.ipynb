{
 "cells": [
  {
   "cell_type": "markdown",
   "id": "4d9cc18e-a15a-445d-9391-3e2fbbea287b",
   "metadata": {},
   "source": [
    "# Design and Analysis of Algorithms - Assignment 1"
   ]
  },
  {
   "cell_type": "markdown",
   "id": "c60736f9-960b-40fb-bdf9-0898ad33b17d",
   "metadata": {},
   "source": [
    "---"
   ]
  },
  {
   "cell_type": "markdown",
   "id": "e6ff62a4-95e7-4124-8a88-465906afc327",
   "metadata": {},
   "source": [
    "### Dependencies"
   ]
  },
  {
   "cell_type": "code",
   "execution_count": 1,
   "id": "8b76911e-b7fc-4469-9cee-146e3da6127b",
   "metadata": {},
   "outputs": [],
   "source": [
    "import re\n",
    "import os\n",
    "import math\n",
    "import numpy as np\n",
    "import pandas as pd"
   ]
  },
  {
   "cell_type": "markdown",
   "id": "73adc433-6ec6-4280-a08c-a91b8b3d68ce",
   "metadata": {},
   "source": [
    "### Data Loading"
   ]
  },
  {
   "cell_type": "code",
   "execution_count": 2,
   "id": "8df29100-15ff-4f91-8b86-b1a92762f896",
   "metadata": {},
   "outputs": [],
   "source": [
    "df_original = pd.read_excel(io = \"input_Make Groups.xlsx\")"
   ]
  },
  {
   "cell_type": "code",
   "execution_count": 3,
   "id": "4ca9c746-aa85-42e6-acfb-906a2d7da780",
   "metadata": {},
   "outputs": [
    {
     "data": {
      "text/html": [
       "<div>\n",
       "<style scoped>\n",
       "    .dataframe tbody tr th:only-of-type {\n",
       "        vertical-align: middle;\n",
       "    }\n",
       "\n",
       "    .dataframe tbody tr th {\n",
       "        vertical-align: top;\n",
       "    }\n",
       "\n",
       "    .dataframe thead th {\n",
       "        text-align: right;\n",
       "    }\n",
       "</style>\n",
       "<table border=\"1\" class=\"dataframe\">\n",
       "  <thead>\n",
       "    <tr style=\"text-align: right;\">\n",
       "      <th></th>\n",
       "      <th>Roll</th>\n",
       "      <th>Name</th>\n",
       "      <th>Email</th>\n",
       "      <th>Unnamed: 3</th>\n",
       "      <th>Unique</th>\n",
       "    </tr>\n",
       "  </thead>\n",
       "  <tbody>\n",
       "    <tr>\n",
       "      <th>0</th>\n",
       "      <td>1401AI01</td>\n",
       "      <td>Abhishek</td>\n",
       "      <td>Abhishek@mycollege.in</td>\n",
       "      <td>NaN</td>\n",
       "      <td>AI.csv</td>\n",
       "    </tr>\n",
       "    <tr>\n",
       "      <th>1</th>\n",
       "      <td>1401AI02</td>\n",
       "      <td>Aman</td>\n",
       "      <td>Aman@mycollege.in</td>\n",
       "      <td>NaN</td>\n",
       "      <td>CB.csv</td>\n",
       "    </tr>\n",
       "    <tr>\n",
       "      <th>2</th>\n",
       "      <td>1401AI03</td>\n",
       "      <td>Harsh</td>\n",
       "      <td>Harsh@mycollege.in</td>\n",
       "      <td>NaN</td>\n",
       "      <td>CE.csv</td>\n",
       "    </tr>\n",
       "    <tr>\n",
       "      <th>3</th>\n",
       "      <td>1401AI04</td>\n",
       "      <td>Ayush</td>\n",
       "      <td>Ayush@mycollege.in</td>\n",
       "      <td>NaN</td>\n",
       "      <td>CH.csv</td>\n",
       "    </tr>\n",
       "    <tr>\n",
       "      <th>4</th>\n",
       "      <td>1401AI05</td>\n",
       "      <td>Aditi</td>\n",
       "      <td>Aditi@mycollege.in</td>\n",
       "      <td>NaN</td>\n",
       "      <td>CS.csv</td>\n",
       "    </tr>\n",
       "  </tbody>\n",
       "</table>\n",
       "</div>"
      ],
      "text/plain": [
       "       Roll      Name                  Email  Unnamed: 3  Unique\n",
       "0  1401AI01  Abhishek  Abhishek@mycollege.in         NaN  AI.csv\n",
       "1  1401AI02      Aman      Aman@mycollege.in         NaN  CB.csv\n",
       "2  1401AI03     Harsh     Harsh@mycollege.in         NaN  CE.csv\n",
       "3  1401AI04     Ayush     Ayush@mycollege.in         NaN  CH.csv\n",
       "4  1401AI05     Aditi     Aditi@mycollege.in         NaN  CS.csv"
      ]
     },
     "execution_count": 3,
     "metadata": {},
     "output_type": "execute_result"
    }
   ],
   "source": [
    "df_original.head()"
   ]
  },
  {
   "cell_type": "markdown",
   "id": "16f61273-0fb7-4db6-b367-ecc0b4626338",
   "metadata": {},
   "source": [
    "**Dropping Two Columns: 'Unnamed: 3' and 'Unique'**"
   ]
  },
  {
   "cell_type": "code",
   "execution_count": 4,
   "id": "6404b5e6-a401-45f4-a67a-d1948bf59eca",
   "metadata": {},
   "outputs": [],
   "source": [
    "df_original = df_original.drop(labels = ['Unnamed: 3', 'Unique'],\n",
    "                               axis   = 1)"
   ]
  },
  {
   "cell_type": "code",
   "execution_count": 5,
   "id": "09bd64e8-c712-489a-a354-2d1689032dad",
   "metadata": {},
   "outputs": [
    {
     "data": {
      "text/html": [
       "<div>\n",
       "<style scoped>\n",
       "    .dataframe tbody tr th:only-of-type {\n",
       "        vertical-align: middle;\n",
       "    }\n",
       "\n",
       "    .dataframe tbody tr th {\n",
       "        vertical-align: top;\n",
       "    }\n",
       "\n",
       "    .dataframe thead th {\n",
       "        text-align: right;\n",
       "    }\n",
       "</style>\n",
       "<table border=\"1\" class=\"dataframe\">\n",
       "  <thead>\n",
       "    <tr style=\"text-align: right;\">\n",
       "      <th></th>\n",
       "      <th>Roll</th>\n",
       "      <th>Name</th>\n",
       "      <th>Email</th>\n",
       "    </tr>\n",
       "  </thead>\n",
       "  <tbody>\n",
       "    <tr>\n",
       "      <th>0</th>\n",
       "      <td>1401AI01</td>\n",
       "      <td>Abhishek</td>\n",
       "      <td>Abhishek@mycollege.in</td>\n",
       "    </tr>\n",
       "    <tr>\n",
       "      <th>1</th>\n",
       "      <td>1401AI02</td>\n",
       "      <td>Aman</td>\n",
       "      <td>Aman@mycollege.in</td>\n",
       "    </tr>\n",
       "    <tr>\n",
       "      <th>2</th>\n",
       "      <td>1401AI03</td>\n",
       "      <td>Harsh</td>\n",
       "      <td>Harsh@mycollege.in</td>\n",
       "    </tr>\n",
       "    <tr>\n",
       "      <th>3</th>\n",
       "      <td>1401AI04</td>\n",
       "      <td>Ayush</td>\n",
       "      <td>Ayush@mycollege.in</td>\n",
       "    </tr>\n",
       "    <tr>\n",
       "      <th>4</th>\n",
       "      <td>1401AI05</td>\n",
       "      <td>Aditi</td>\n",
       "      <td>Aditi@mycollege.in</td>\n",
       "    </tr>\n",
       "  </tbody>\n",
       "</table>\n",
       "</div>"
      ],
      "text/plain": [
       "       Roll      Name                  Email\n",
       "0  1401AI01  Abhishek  Abhishek@mycollege.in\n",
       "1  1401AI02      Aman      Aman@mycollege.in\n",
       "2  1401AI03     Harsh     Harsh@mycollege.in\n",
       "3  1401AI04     Ayush     Ayush@mycollege.in\n",
       "4  1401AI05     Aditi     Aditi@mycollege.in"
      ]
     },
     "execution_count": 5,
     "metadata": {},
     "output_type": "execute_result"
    }
   ],
   "source": [
    "df_original.head()"
   ]
  },
  {
   "cell_type": "markdown",
   "id": "7b483fc9-ea98-4096-be67-647ccb895463",
   "metadata": {},
   "source": [
    "### Objective 1: full_branchwise"
   ]
  },
  {
   "cell_type": "code",
   "execution_count": 6,
   "id": "0150bd7e-e886-4eeb-980a-c9a60c5a1142",
   "metadata": {},
   "outputs": [],
   "source": [
    "FILE_PATH = \"full_brancwise/\""
   ]
  },
  {
   "cell_type": "markdown",
   "id": "8ddf9c17-c75f-4e22-8dcf-7c7b6fc754ba",
   "metadata": {},
   "source": [
    "**Extracting unique Branch names from Roll Columns**"
   ]
  },
  {
   "cell_type": "code",
   "execution_count": 7,
   "id": "c5a6fbb4-d533-4e1b-9716-396787c75b76",
   "metadata": {},
   "outputs": [],
   "source": [
    "unique_branches = []\n",
    "for i in df_original['Roll']:\n",
    "    if i[4:6] not in unique_branches:\n",
    "        unique_branches.append(i[4:6])"
   ]
  },
  {
   "cell_type": "code",
   "execution_count": 8,
   "id": "753c2fe1-0a27-4f98-b0ec-39447786606f",
   "metadata": {},
   "outputs": [
    {
     "data": {
      "text/plain": [
       "['AI', 'CB', 'CE', 'CH', 'CS', 'CT', 'EC', 'MC', 'MM', 'MT']"
      ]
     },
     "execution_count": 8,
     "metadata": {},
     "output_type": "execute_result"
    }
   ],
   "source": [
    "unique_branches"
   ]
  },
  {
   "cell_type": "code",
   "execution_count": 9,
   "id": "3e8be7f0-e983-4bec-90bd-07db91be2808",
   "metadata": {},
   "outputs": [],
   "source": [
    "for i in unique_branches:\n",
    "    df_new = df_original[df_original['Roll'].str.contains(i, case = False, na = False)]\n",
    "    df_new.to_csv(path_or_buf = f\"{FILE_PATH}{i}.csv\",\n",
    "                  index       = False)"
   ]
  },
  {
   "cell_type": "markdown",
   "id": "5c423de0-20bd-4f68-9627-59e1a6c0ee43",
   "metadata": {},
   "source": [
    "**Branchwise Distribution**"
   ]
  },
  {
   "cell_type": "code",
   "execution_count": 10,
   "id": "f11314ab-c654-44d9-86ed-0f5722d73d17",
   "metadata": {},
   "outputs": [],
   "source": [
    "dist = {}\n",
    "for i in unique_branches:\n",
    "    df_new = pd.read_csv(f\"{FILE_PATH}{i}.csv\")\n",
    "    dist[i] = len(df_new)"
   ]
  },
  {
   "cell_type": "code",
   "execution_count": 11,
   "id": "82b422c7-bdd2-4267-989b-1a7ab84804be",
   "metadata": {},
   "outputs": [
    {
     "data": {
      "text/plain": [
       "{'AI': 45,\n",
       " 'CB': 50,\n",
       " 'CE': 56,\n",
       " 'CH': 84,\n",
       " 'CS': 95,\n",
       " 'CT': 64,\n",
       " 'EC': 54,\n",
       " 'MC': 75,\n",
       " 'MM': 82,\n",
       " 'MT': 78}"
      ]
     },
     "execution_count": 11,
     "metadata": {},
     "output_type": "execute_result"
    }
   ],
   "source": [
    "dist"
   ]
  },
  {
   "cell_type": "markdown",
   "id": "99000901-e3b6-4c80-a097-7b860b6d0a6f",
   "metadata": {},
   "source": [
    "### Objective 2: group_branch_wise_mix"
   ]
  },
  {
   "cell_type": "code",
   "execution_count": 12,
   "id": "6c2a1695-2273-4d2b-b6c3-b41bb07f80bf",
   "metadata": {},
   "outputs": [],
   "source": [
    "MIX_PATH = \"group_branch_wise_mix/\"\n",
    "\n",
    "df_dict = {}\n",
    "for i in unique_branches:\n",
    "    df_dict[i] = pd.read_csv(f\"{FILE_PATH}/{i}.csv\")"
   ]
  },
  {
   "cell_type": "code",
   "execution_count": 13,
   "id": "67932409-bb4d-4784-88ea-8eccd9bdda14",
   "metadata": {},
   "outputs": [
    {
     "name": "stdin",
     "output_type": "stream",
     "text": [
      "Enter number of groups:  15\n"
     ]
    }
   ],
   "source": [
    "n = int(input(\"Enter number of groups: \"))\n",
    "group_size = math.ceil(len(df_original)/n)\n",
    "total_brch = len(unique_branches)\n",
    "\n",
    "grps = []\n",
    "\n",
    "current_brch_id = 0\n",
    "current_std_round = 0\n",
    "\n",
    "curr_grp = []\n",
    "\n",
    "for i in range(len(df_original)):\n",
    "    if len(curr_grp) == group_size:\n",
    "        grps.append(curr_grp)\n",
    "        curr_grp = []\n",
    "    while 1:\n",
    "        df_curr = df_dict[unique_branches[current_brch_id%total_brch]]\n",
    "        current_std_round = current_brch_id//total_brch\n",
    "        if len(df_curr) > current_std_round:\n",
    "            row = df_curr.loc[current_std_round]\n",
    "            current_brch_id += 1\n",
    "            break\n",
    "        else:\n",
    "            current_brch_id += 1\n",
    "            continue\n",
    "    \n",
    "    curr_grp.append(row)\n",
    "\n",
    "    if i == (len(df_original) - 1):\n",
    "        grps.append(curr_grp)"
   ]
  },
  {
   "cell_type": "code",
   "execution_count": 14,
   "id": "048484cc-ce12-43b0-ba16-a0d107479b6a",
   "metadata": {},
   "outputs": [],
   "source": [
    "for i in range(len(grps)):\n",
    "    df_new = pd.DataFrame(data = grps[i])\n",
    "    df_new.to_csv(f\"{MIX_PATH}g{i+1}.csv\", index = False)"
   ]
  },
  {
   "cell_type": "markdown",
   "id": "2c3f34b2-526c-4413-85b4-944aa1075ad6",
   "metadata": {},
   "source": [
    "### Objective 3: Uniform mix"
   ]
  },
  {
   "cell_type": "code",
   "execution_count": 15,
   "id": "f122cdb2-27f6-4c44-bb86-65837f422c6c",
   "metadata": {},
   "outputs": [],
   "source": [
    "desc_dist = sorted(dist.items(), key = lambda x: x[1], reverse=True)"
   ]
  },
  {
   "cell_type": "code",
   "execution_count": 16,
   "id": "ef72730c-fddc-4451-b181-ee9827f381c8",
   "metadata": {},
   "outputs": [
    {
     "data": {
      "text/plain": [
       "[('CS', 95),\n",
       " ('CH', 84),\n",
       " ('MM', 82),\n",
       " ('MT', 78),\n",
       " ('MC', 75),\n",
       " ('CT', 64),\n",
       " ('CE', 56),\n",
       " ('EC', 54),\n",
       " ('CB', 50),\n",
       " ('AI', 45)]"
      ]
     },
     "execution_count": 16,
     "metadata": {},
     "output_type": "execute_result"
    }
   ],
   "source": [
    "desc_dist"
   ]
  },
  {
   "cell_type": "code",
   "execution_count": 17,
   "id": "becfad6a-85d8-41d4-b066-828986f3326c",
   "metadata": {},
   "outputs": [],
   "source": [
    "UNIFORM_PATH = \"group_uniform_mix/\""
   ]
  },
  {
   "cell_type": "code",
   "execution_count": 27,
   "id": "93258f0f-0346-476a-8914-69c9e4f200a2",
   "metadata": {},
   "outputs": [
    {
     "name": "stdin",
     "output_type": "stream",
     "text": [
      "Enter number of groups:  15\n"
     ]
    }
   ],
   "source": [
    "n = int(input(\"Enter number of groups: \"))\n",
    "total_students = len(df_original)\n",
    "group_size = math.ceil(total_students/n)\n",
    "\n",
    "final_groups = [[] for _ in range(n)]\n",
    "desc_dist = sorted(dist.items(), key = lambda x: x[1], reverse=True)\n",
    "\n",
    "for i in range(n):\n",
    "    remaining = group_size\n",
    "    while remaining > 0 and sum([count for idx, count in desc_dist]):\n",
    "        desc_dist.sort(key = lambda x: x[1], reverse=True)\n",
    "        idx, count = desc_dist[0]\n",
    "\n",
    "        if count == 0:\n",
    "            break\n",
    "\n",
    "        take = min(count, remaining)\n",
    "        final_groups[i].append((idx, take))\n",
    "\n",
    "        desc_dist[0] = (idx, count-take)\n",
    "        remaining -= take\n",
    "\n",
    "new_dist = dist.copy()\n",
    "df_dict = {}\n",
    "for i in unique_branches:\n",
    "    df_dict[i] = pd.read_csv(f\"{FILE_PATH}/{i}.csv\")\n",
    "\n",
    "for _, i in enumerate(final_groups):\n",
    "    df_new = pd.DataFrame(columns=df_original.columns)\n",
    "    for branch, students in i:\n",
    "        df_new = pd.concat([df_new, df_dict[branch][:students]], axis = 0)\n",
    "        df_dict[branch] = df_dict[branch].drop([j for j in range(students)]).reset_index(drop=True)\n",
    "        df_new.to_csv(f\"{UNIFORM_PATH}g{_+1}.csv\", index = False)"
   ]
  },
  {
   "cell_type": "code",
   "execution_count": 21,
   "id": "5dd91528-1177-4ad1-b6de-0912289c6bbf",
   "metadata": {},
   "outputs": [],
   "source": [
    "df_uniform = pd.DataFrame(columns=df_original.columns)\n",
    "for i in range(15):\n",
    "    df_temp = pd.read_csv(f\"{UNIFORM_PATH}g{i}.csv\")\n",
    "    df_uniform = pd.concat([df_uniform, df_temp])"
   ]
  },
  {
   "cell_type": "markdown",
   "id": "742b3704-cc41-4d26-b385-d17449490549",
   "metadata": {},
   "source": [
    "### Objective 4: Stats"
   ]
  },
  {
   "cell_type": "code",
   "execution_count": 37,
   "id": "891a0539-dd4f-46bd-b8d0-ebb8dac995f5",
   "metadata": {},
   "outputs": [],
   "source": [
    "df_stat = pd.DataFrame(columns=unique_branches)\n",
    "df_stat.loc['g1'] = {'AI': 45,\n",
    " 'CB': 50,\n",
    " 'CE': 56,\n",
    " 'CH': 84,\n",
    " 'CS': 95,\n",
    " 'CT': 64,\n",
    " 'EC': 54,\n",
    " 'MC': 75,\n",
    " 'MM': 82,\n",
    " 'MT': 78}"
   ]
  },
  {
   "cell_type": "code",
   "execution_count": 38,
   "id": "b2278c29-bdfa-4781-ae19-7e15a2e0cbca",
   "metadata": {},
   "outputs": [
    {
     "data": {
      "text/html": [
       "<div>\n",
       "<style scoped>\n",
       "    .dataframe tbody tr th:only-of-type {\n",
       "        vertical-align: middle;\n",
       "    }\n",
       "\n",
       "    .dataframe tbody tr th {\n",
       "        vertical-align: top;\n",
       "    }\n",
       "\n",
       "    .dataframe thead th {\n",
       "        text-align: right;\n",
       "    }\n",
       "</style>\n",
       "<table border=\"1\" class=\"dataframe\">\n",
       "  <thead>\n",
       "    <tr style=\"text-align: right;\">\n",
       "      <th></th>\n",
       "      <th>AI</th>\n",
       "      <th>CB</th>\n",
       "      <th>CE</th>\n",
       "      <th>CH</th>\n",
       "      <th>CS</th>\n",
       "      <th>CT</th>\n",
       "      <th>EC</th>\n",
       "      <th>MC</th>\n",
       "      <th>MM</th>\n",
       "      <th>MT</th>\n",
       "    </tr>\n",
       "  </thead>\n",
       "  <tbody>\n",
       "    <tr>\n",
       "      <th>g1</th>\n",
       "      <td>45</td>\n",
       "      <td>50</td>\n",
       "      <td>56</td>\n",
       "      <td>84</td>\n",
       "      <td>95</td>\n",
       "      <td>64</td>\n",
       "      <td>54</td>\n",
       "      <td>75</td>\n",
       "      <td>82</td>\n",
       "      <td>78</td>\n",
       "    </tr>\n",
       "  </tbody>\n",
       "</table>\n",
       "</div>"
      ],
      "text/plain": [
       "    AI  CB  CE  CH  CS  CT  EC  MC  MM  MT\n",
       "g1  45  50  56  84  95  64  54  75  82  78"
      ]
     },
     "execution_count": 38,
     "metadata": {},
     "output_type": "execute_result"
    }
   ],
   "source": [
    "df_stat"
   ]
  },
  {
   "cell_type": "code",
   "execution_count": 49,
   "id": "dc37370c-8b3b-4857-b891-f5de8a35585b",
   "metadata": {},
   "outputs": [],
   "source": [
    "PATHS = [\"group_uniform_mix/\", \"group_branch_wise_mix/\"]\n",
    "\n",
    "for path in PATHS:\n",
    "    df_stat = pd.DataFrame(columns=unique_branches)\n",
    "    for i in range(n):\n",
    "        count_by_branch = {}\n",
    "        for branch in unique_branches:\n",
    "            count_by_branch[branch] = 0\n",
    "        df_temp = pd.read_csv(f\"{path}g{i+1}.csv\")\n",
    "        for j in df_temp['Roll']:\n",
    "            count_by_branch[j[4:6]] += 1\n",
    "        df_stat.loc[f'g{i+1}'] = count_by_branch\n",
    "\n",
    "    df_stat.to_csv(f\"{path}stat.csv\")"
   ]
  },
  {
   "cell_type": "code",
   "execution_count": null,
   "id": "d6995b8b-463f-4ea6-9573-20e71341aab5",
   "metadata": {},
   "outputs": [],
   "source": []
  }
 ],
 "metadata": {
  "kernelspec": {
   "display_name": "Python 3 (ipykernel)",
   "language": "python",
   "name": "python3"
  },
  "language_info": {
   "codemirror_mode": {
    "name": "ipython",
    "version": 3
   },
   "file_extension": ".py",
   "mimetype": "text/x-python",
   "name": "python",
   "nbconvert_exporter": "python",
   "pygments_lexer": "ipython3",
   "version": "3.12.7"
  }
 },
 "nbformat": 4,
 "nbformat_minor": 5
}
